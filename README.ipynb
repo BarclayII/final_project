{
 "cells": [
  {
   "cell_type": "markdown",
   "metadata": {},
   "source": [
    "# nn-uf\n",
    "Feed Forward Artificial Neural Network implementation in Python\n",
    "\n",
    "## System and Dependencies\n",
    "\n",
    "Only tested on Linux.  Windows and OS/X are not supported.\n",
    "\n",
    "Requires the following packages to work:\n",
    "\n",
    "* numpy\n",
    "* pandas\n",
    "* tabview\n",
    "* matplotlib"
   ]
  },
  {
   "cell_type": "markdown",
   "metadata": {},
   "source": [
    "## Using demo.py\n",
    "\n",
    "[Andy will write this section]\n"
   ]
  },
  {
   "cell_type": "markdown",
   "metadata": {},
   "source": [
    "## Sample code for Dataprep/Model\n"
   ]
  },
  {
   "cell_type": "markdown",
   "metadata": {},
   "source": [
    "### First process data from a dataset, or read in X, Y input output values directly"
   ]
  },
  {
   "cell_type": "code",
   "execution_count": 1,
   "metadata": {
    "collapsed": false
   },
   "outputs": [],
   "source": [
    "#Import relevant libraries\n",
    "from Model import *\n",
    "from dataprep import *\n",
    "\n",
    "#Assuming you have a dataset located at datefilename,\n",
    "datafilename = 'dataset/abalone.data'\n",
    "csvloader = CSVLoader(target=[-1])\n",
    "datasetX, datasetY = csvloader.load_from_path(datafilename)\n",
    "\n",
    "# Normalize all numeric columns into [-1, 1] first.\n",
    "norm = ColumnNormalizer('negpos')\n",
    "\n",
    "# Add a 'missing indicator' for each column with missing values\n",
    "ni = NullIndicatorTransformer()\n",
    "\n",
    "# Impute the NaN's in numeric fields by mean value\n",
    "mi = NumericImputationTransformer('mean')\n",
    "\n",
    "# One-hot categorical encoder.  PD.get_dummies() does all the magic\n",
    "ohe = OneHotEncoderTransformer()\n",
    "\n",
    "# A pipeline which does transformation one-by-one\n",
    "pipelineX = PipelineTransformer(norm, ni, mi, ohe)\n",
    "# For labels we don't need to normalize them\n",
    "pipelineY = PipelineTransformer(ni, mi, ohe)\n",
    "\n",
    "# Transform dataset\n",
    "X = pipelineX.transform(datasetX)\n",
    "Y = pipelineY.transform(datasetY)\n"
   ]
  },
  {
   "cell_type": "markdown",
   "metadata": {},
   "source": [
    "### Now that you have processed the data, you can do one of two things"
   ]
  },
  {
   "cell_type": "code",
   "execution_count": 2,
   "metadata": {
    "collapsed": false
   },
   "outputs": [],
   "source": [
    "#Learn to predict Y from X:\n",
    "\n",
    "\n",
    "\n",
    "\n"
   ]
  },
  {
   "cell_type": "code",
   "execution_count": 4,
   "metadata": {
    "collapsed": false
   },
   "outputs": [],
   "source": [
    "#Or create an autoencoder to compress the dimensionality of the data\n",
    "encoder = AutoEncoder(X, hidden_dim=3)\n",
    "\n",
    "#Train the autoencoder for some number of epochs\n",
    "encoder.train(10)\n",
    "\n",
    "#Collect reduced dimensionality embedding data:\n",
    "encoding_vals = encoder.get_encoding_vals()\n",
    "\n",
    "#This the reduced dimensionality data can then be used to visualize the dataset\n",
    "#by graphing it in low dimensions and coloring the points corresponding to class labels\n",
    "from utils import *"
   ]
  },
  {
   "cell_type": "code",
   "execution_count": null,
   "metadata": {
    "collapsed": true
   },
   "outputs": [],
   "source": []
  },
  {
   "cell_type": "code",
   "execution_count": null,
   "metadata": {
    "collapsed": true
   },
   "outputs": [],
   "source": []
  }
 ],
 "metadata": {
  "kernelspec": {
   "display_name": "Python [conda root]",
   "language": "python",
   "name": "conda-root-py"
  },
  "language_info": {
   "codemirror_mode": {
    "name": "ipython",
    "version": 3
   },
   "file_extension": ".py",
   "mimetype": "text/x-python",
   "name": "python",
   "nbconvert_exporter": "python",
   "pygments_lexer": "ipython3",
   "version": "3.5.2"
  }
 },
 "nbformat": 4,
 "nbformat_minor": 1
}
